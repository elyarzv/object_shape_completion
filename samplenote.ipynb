{
 "cells": [
  {
   "cell_type": "code",
   "execution_count": 2,
   "id": "86bf29f2-6094-4965-be65-6897ef9cbda1",
   "metadata": {
    "tags": []
   },
   "outputs": [
    {
     "name": "stdout",
     "output_type": "stream",
     "text": [
      "\n",
      "--- [viewvox] binary voxel viewer, version 0.48, build #399 on 2023/01/22 17:15:51, running on Linux\n",
      "--- written by Patrick Min, 2004-2023\n",
      "\n",
      "loading voxel file...\n",
      "  filename: [models/binvox_files/013_apple/textured], extension: [binvox]\n",
      "reading binvox version 1\n",
      "Voxels::init(256, 256, 256, 0)\n",
      "  Voxels::clear\n",
      "  read 9632289 voxels\n",
      "Voxels::print_filled_area\n",
      "Voxels::compute_bounding_box\n",
      "  area filled: 256 x 244 x 254\n",
      "  integer bounding box: [0,0,0] - [255,243,253]\n",
      "Voxels::add_border(0)\n",
      "  old dimensions (d x h x w): 256 x 256 x 256\n",
      "  new dimensions (d x h x w): 258 x 258 x 258\n",
      "Voxels::remove_internal_voxels, size 17173512\n",
      "  removing 9435139 voxels\n",
      "Voxels::add_border(1)\n",
      "  old dimensions (d x h x w): 258 x 258 x 258\n",
      "  new dimensions (d x h x w): 256 x 256 x 256\n",
      "GLwindow::init_lighting\n",
      "Graphics card and driver information:\n",
      "Vendor:   NVIDIA Corporation\n",
      "Renderer: NVIDIA GeForce RTX 3070 Ti Laptop GPU/PCIe/SSE2\n",
      "Version:  4.6.0 NVIDIA 525.78.01\n",
      "Voxels::compute_bounding_box\n",
      "bmin: [0, 0, 0, 1], bmax: [0.996094, 0.988281, 0.949219, 1]\n",
      "Camera::set_std_camera(0, bmin, bmax)\n",
      "  setting standard camera: [1.54609, 0.469434, 1.49922, 1], [0.498047, 0.494141, 0.474609, 1], [0, 0, 1, 1]\n",
      "loading settings file...\n",
      "  could not find settings file [models/binvox_files/013_apple/textured.settings]\n",
      "\n",
      "Mouse left button = rotate\n",
      "      wheel       = zoom\n",
      "      right       = pan\n",
      "Key   r           = reset view\n",
      "      arrow keys  = move 1 voxel step along x (left, right) or y (up, down)\n",
      "      =,-         = move 1 voxel step along z\n",
      "\n",
      "      q           = quit\n",
      "\n",
      "      a           = toggle alternating colours\n",
      "      p           = toggle between orthographic and perspective projection\n",
      "      u           = set z axis up\n",
      "      x, y, z     = set camera looking down X, Y, or Z axis\n",
      "      X, Y, Z     = set camera looking up X, Y, or Z axis\n",
      "      1           = toggle show x, y, and z coordinates\n",
      "      6           = toggle thick grid lines every 4/16 voxels\n",
      "\n",
      "      s           = show single slice\n",
      "      n           = show both/above/below slice neighbour(s)\n",
      "      t           = toggle neighbour transparency\n",
      "      j           = move slice down\n",
      "      k           = move slice up\n",
      "      G           = toggle show grid\n",
      "      g           = toggle show grid at slice level\n",
      "      Alt + g     = change grid orientation\n",
      "\n"
     ]
    },
    {
     "data": {
      "text/plain": [
       "0"
      ]
     },
     "execution_count": 2,
     "metadata": {},
     "output_type": "execute_result"
    }
   ],
   "source": [
    "import os\n",
    "command = \"./viewvox models/binvox_files/013_apple/textured.binvox\"\n",
    "os.system(command)"
   ]
  },
  {
   "cell_type": "code",
   "execution_count": null,
   "id": "a5984fce-4c23-4749-b4b2-3e719a11e449",
   "metadata": {},
   "outputs": [],
   "source": []
  }
 ],
 "metadata": {
  "kernelspec": {
   "display_name": "Python 3 (ipykernel)",
   "language": "python",
   "name": "python3"
  },
  "language_info": {
   "codemirror_mode": {
    "name": "ipython",
    "version": 3
   },
   "file_extension": ".py",
   "mimetype": "text/x-python",
   "name": "python",
   "nbconvert_exporter": "python",
   "pygments_lexer": "ipython3",
   "version": "3.8.10"
  }
 },
 "nbformat": 4,
 "nbformat_minor": 5
}
